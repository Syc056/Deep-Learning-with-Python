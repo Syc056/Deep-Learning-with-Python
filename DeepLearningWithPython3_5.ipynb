{
  "nbformat": 4,
  "nbformat_minor": 0,
  "metadata": {
    "colab": {
      "name": "DeepLearningWithPython3-5.ipynb",
      "provenance": [],
      "collapsed_sections": [],
      "authorship_tag": "ABX9TyPtM0CUub7jrFQVQ2LJugh1",
      "include_colab_link": true
    },
    "kernelspec": {
      "name": "python3",
      "display_name": "Python 3"
    },
    "language_info": {
      "name": "python"
    }
  },
  "cells": [
    {
      "cell_type": "markdown",
      "metadata": {
        "id": "view-in-github",
        "colab_type": "text"
      },
      "source": [
        "<a href=\"https://colab.research.google.com/github/Syc056/Deep-Learning-with-Python/blob/main/DeepLearningWithPython3_5.ipynb\" target=\"_parent\"><img src=\"https://colab.research.google.com/assets/colab-badge.svg\" alt=\"Open In Colab\"/></a>"
      ]
    },
    {
      "cell_type": "code",
      "metadata": {
        "colab": {
          "base_uri": "https://localhost:8080/"
        },
        "id": "dlnysvQX-Ek8",
        "outputId": "94206b21-aeac-44b3-a8c0-db73bac45867"
      },
      "source": [
        "# 뉴스 기사 분류 : 다중 분류 문제\n",
        "# 클래스의 결과가 2개 이상일 경우\n",
        "\n",
        "from keras.datasets import reuters\n",
        "\n",
        "(train_data, train_labels), (test_data,test_labels) = reuters.load_data(num_words=10000)"
      ],
      "execution_count": 1,
      "outputs": [
        {
          "output_type": "stream",
          "name": "stdout",
          "text": [
            "Downloading data from https://storage.googleapis.com/tensorflow/tf-keras-datasets/reuters.npz\n",
            "2113536/2110848 [==============================] - 0s 0us/step\n",
            "2121728/2110848 [==============================] - 0s 0us/step\n"
          ]
        }
      ]
    },
    {
      "cell_type": "code",
      "metadata": {
        "colab": {
          "base_uri": "https://localhost:8080/"
        },
        "id": "mrOJWeyrDxvx",
        "outputId": "cb323f65-9094-446e-e571-2851fbce8524"
      },
      "source": [
        "len(train_data)"
      ],
      "execution_count": 2,
      "outputs": [
        {
          "output_type": "execute_result",
          "data": {
            "text/plain": [
              "8982"
            ]
          },
          "metadata": {},
          "execution_count": 2
        }
      ]
    },
    {
      "cell_type": "code",
      "metadata": {
        "colab": {
          "base_uri": "https://localhost:8080/"
        },
        "id": "iqjaCHBTDzpa",
        "outputId": "cdef0c05-88fa-4e68-96e7-37028d774b5c"
      },
      "source": [
        "len(test_data)"
      ],
      "execution_count": 3,
      "outputs": [
        {
          "output_type": "execute_result",
          "data": {
            "text/plain": [
              "2246"
            ]
          },
          "metadata": {},
          "execution_count": 3
        }
      ]
    },
    {
      "cell_type": "code",
      "metadata": {
        "colab": {
          "base_uri": "https://localhost:8080/"
        },
        "id": "HpMHcvP-D1Co",
        "outputId": "4d167128-5ef5-4535-b3df-131d26f75bc8"
      },
      "source": [
        "train_data[10]"
      ],
      "execution_count": 4,
      "outputs": [
        {
          "output_type": "execute_result",
          "data": {
            "text/plain": [
              "[1,\n",
              " 245,\n",
              " 273,\n",
              " 207,\n",
              " 156,\n",
              " 53,\n",
              " 74,\n",
              " 160,\n",
              " 26,\n",
              " 14,\n",
              " 46,\n",
              " 296,\n",
              " 26,\n",
              " 39,\n",
              " 74,\n",
              " 2979,\n",
              " 3554,\n",
              " 14,\n",
              " 46,\n",
              " 4689,\n",
              " 4329,\n",
              " 86,\n",
              " 61,\n",
              " 3499,\n",
              " 4795,\n",
              " 14,\n",
              " 61,\n",
              " 451,\n",
              " 4329,\n",
              " 17,\n",
              " 12]"
            ]
          },
          "metadata": {},
          "execution_count": 4
        }
      ]
    },
    {
      "cell_type": "code",
      "metadata": {
        "colab": {
          "base_uri": "https://localhost:8080/"
        },
        "id": "sIPH0N0gD3AQ",
        "outputId": "f989b306-5273-492d-aa88-fb711d7d8ed9"
      },
      "source": [
        "# 로이터 데이터셋을 텍스트로 디코딩하기\n",
        "\n",
        "word_index = reuters.get_word_index()\n",
        "reverse_word_index = dict([(value, key) for (key,value) in word_index.items()])\n",
        "decoded_newswire = ' '.join([reverse_word_index.get(i - 3,'?') for i in train_data[0]])"
      ],
      "execution_count": 6,
      "outputs": [
        {
          "output_type": "stream",
          "name": "stdout",
          "text": [
            "Downloading data from https://storage.googleapis.com/tensorflow/tf-keras-datasets/reuters_word_index.json\n",
            "557056/550378 [==============================] - 0s 0us/step\n",
            "565248/550378 [==============================] - 0s 0us/step\n"
          ]
        }
      ]
    },
    {
      "cell_type": "code",
      "metadata": {
        "id": "KTHZ8XQdENu5"
      },
      "source": [
        "# 데이터 인코딩하기\n",
        "\n",
        "import numpy as np\n",
        "\n",
        "def vectorize_sequences(sequences ,dimension=10000):\n",
        "  results = np.zeros((len(sequences), dimension))\n",
        "  for i ,sequence in enumerate(sequences):\n",
        "    results[i,sequence] =  1.\n",
        "  return results\n",
        "\n",
        "x_train = vectorize_sequences(train_data)\n",
        "x_test = vectorize_sequences(test_data)"
      ],
      "execution_count": 8,
      "outputs": []
    },
    {
      "cell_type": "code",
      "metadata": {
        "id": "LUrrXXs6EyKU"
      },
      "source": [
        "def to_one_hot(labels,dimension=46):\n",
        "  results = np.zeros((len(labels), dimension))\n",
        "  for i ,label in enumerate(labels):\n",
        "    results[i,label] =  1.\n",
        "  return results\n",
        "\n",
        "one_hot_train_labels = to_one_hot(train_labels)\n",
        "one_hot_test_labels = to_one_hot(test_labels)"
      ],
      "execution_count": 9,
      "outputs": []
    },
    {
      "cell_type": "code",
      "metadata": {
        "id": "4Q6_pwSMFaVi"
      },
      "source": [
        "# ===\n",
        "\n",
        "from keras.utils.np_utils import to_categorical\n",
        "\n",
        "one_hot_train_labels = to_categorical(train_labels)\n",
        "one_hot_test_labels = to_categorical(test_labels)"
      ],
      "execution_count": 10,
      "outputs": []
    },
    {
      "cell_type": "code",
      "metadata": {
        "id": "wfT8ZgIAFtg4"
      },
      "source": [
        "# 모델 구성\n",
        "\n",
        "from keras import models,layers\n",
        "\n",
        "model = models.Sequential()\n",
        "model.add(layers.Dense(64,activation='relu', input_shape=(10000,)))\n",
        "model.add(layers.Dense(64,activation='relu'))\n",
        "model.add(layers.Dense(46,activation='softmax'))\n",
        "\n",
        "# 모델 컴파일\n",
        "\n",
        "model.compile(optimizer='rmsprop',\n",
        "              loss='categorical_crossentropy',\n",
        "              metrics=['accuracy'])"
      ],
      "execution_count": 15,
      "outputs": []
    },
    {
      "cell_type": "code",
      "metadata": {
        "id": "OwILSsKVKyik"
      },
      "source": [
        "# 검증 세트 준비하기\n",
        "x_val = x_train[:1000]\n",
        "partial_x_train = x_train[1000:]\n",
        "\n",
        "y_val = one_hot_train_labels[:1000]\n",
        "partial_y_train = one_hot_train_labels[1000:]"
      ],
      "execution_count": 16,
      "outputs": []
    },
    {
      "cell_type": "code",
      "metadata": {
        "colab": {
          "base_uri": "https://localhost:8080/"
        },
        "id": "a4ajMH1cLHcX",
        "outputId": "5dfc05ee-fdee-4d41-ef5a-a71dbd11bff2"
      },
      "source": [
        "# 모델 훈련\n",
        "history = model.fit(partial_x_train,\n",
        "                    partial_y_train,\n",
        "                    epochs=20,\n",
        "                    validation_data=(x_val, y_val))"
      ],
      "execution_count": 17,
      "outputs": [
        {
          "output_type": "stream",
          "name": "stdout",
          "text": [
            "Epoch 1/20\n",
            "250/250 [==============================] - 3s 10ms/step - loss: 1.4572 - accuracy: 0.6844 - val_loss: 1.0857 - val_accuracy: 0.7470\n",
            "Epoch 2/20\n",
            "250/250 [==============================] - 2s 8ms/step - loss: 0.7611 - accuracy: 0.8289 - val_loss: 0.8965 - val_accuracy: 0.8130\n",
            "Epoch 3/20\n",
            "250/250 [==============================] - 2s 9ms/step - loss: 0.4768 - accuracy: 0.8958 - val_loss: 0.8742 - val_accuracy: 0.8260\n",
            "Epoch 4/20\n",
            "250/250 [==============================] - 2s 9ms/step - loss: 0.3301 - accuracy: 0.9266 - val_loss: 0.9581 - val_accuracy: 0.8230\n",
            "Epoch 5/20\n",
            "250/250 [==============================] - 2s 9ms/step - loss: 0.2565 - accuracy: 0.9430 - val_loss: 1.0224 - val_accuracy: 0.8200\n",
            "Epoch 6/20\n",
            "250/250 [==============================] - 2s 9ms/step - loss: 0.2173 - accuracy: 0.9489 - val_loss: 1.0475 - val_accuracy: 0.8180\n",
            "Epoch 7/20\n",
            "250/250 [==============================] - 2s 9ms/step - loss: 0.1921 - accuracy: 0.9531 - val_loss: 1.1387 - val_accuracy: 0.8080\n",
            "Epoch 8/20\n",
            "250/250 [==============================] - 2s 9ms/step - loss: 0.1756 - accuracy: 0.9544 - val_loss: 1.2549 - val_accuracy: 0.8000\n",
            "Epoch 9/20\n",
            "250/250 [==============================] - 2s 8ms/step - loss: 0.1621 - accuracy: 0.9555 - val_loss: 1.3297 - val_accuracy: 0.8050\n",
            "Epoch 10/20\n",
            "250/250 [==============================] - 2s 9ms/step - loss: 0.1598 - accuracy: 0.9539 - val_loss: 1.4320 - val_accuracy: 0.7980\n",
            "Epoch 11/20\n",
            "250/250 [==============================] - 2s 9ms/step - loss: 0.1439 - accuracy: 0.9567 - val_loss: 1.5272 - val_accuracy: 0.7950\n",
            "Epoch 12/20\n",
            "250/250 [==============================] - 2s 9ms/step - loss: 0.1393 - accuracy: 0.9575 - val_loss: 1.6050 - val_accuracy: 0.8010\n",
            "Epoch 13/20\n",
            "250/250 [==============================] - 2s 9ms/step - loss: 0.1357 - accuracy: 0.9579 - val_loss: 1.5518 - val_accuracy: 0.7970\n",
            "Epoch 14/20\n",
            "250/250 [==============================] - 2s 9ms/step - loss: 0.1321 - accuracy: 0.9577 - val_loss: 1.6824 - val_accuracy: 0.8000\n",
            "Epoch 15/20\n",
            "250/250 [==============================] - 2s 9ms/step - loss: 0.1230 - accuracy: 0.9575 - val_loss: 1.9542 - val_accuracy: 0.7820\n",
            "Epoch 16/20\n",
            "250/250 [==============================] - 2s 9ms/step - loss: 0.1243 - accuracy: 0.9580 - val_loss: 1.9898 - val_accuracy: 0.7960\n",
            "Epoch 17/20\n",
            "250/250 [==============================] - 2s 9ms/step - loss: 0.1177 - accuracy: 0.9594 - val_loss: 2.0244 - val_accuracy: 0.7910\n",
            "Epoch 18/20\n",
            "250/250 [==============================] - 2s 9ms/step - loss: 0.1166 - accuracy: 0.9565 - val_loss: 2.0263 - val_accuracy: 0.7970\n",
            "Epoch 19/20\n",
            "250/250 [==============================] - 2s 9ms/step - loss: 0.1175 - accuracy: 0.9573 - val_loss: 2.0918 - val_accuracy: 0.7930\n",
            "Epoch 20/20\n",
            "250/250 [==============================] - 2s 9ms/step - loss: 0.1088 - accuracy: 0.9580 - val_loss: 2.4164 - val_accuracy: 0.7790\n"
          ]
        }
      ]
    },
    {
      "cell_type": "code",
      "metadata": {
        "colab": {
          "base_uri": "https://localhost:8080/",
          "height": 295
        },
        "id": "N4cDichZLRg9",
        "outputId": "b851cdaa-f60d-4d76-b351-c89ea05c7516"
      },
      "source": [
        "# 훈련과 검증 손실 그리기\n",
        "\n",
        "import matplotlib.pyplot as plt\n",
        "\n",
        "history_dict = history.history\n",
        "loss = history_dict['loss']\n",
        "val_loss = history_dict['val_loss']\n",
        "\n",
        "epochs = range(1, len(loss) + 1)\n",
        "\n",
        "plt.plot(epochs, loss, 'bo', label='Training loss')\n",
        "plt.plot(epochs, val_loss, 'b', label='Validation loss')\n",
        "plt.title('Training and validation loss')\n",
        "plt.xlabel('Epochs')\n",
        "plt.ylabel('Loss')\n",
        "plt.legend()\n",
        "\n",
        "plt.show()"
      ],
      "execution_count": 18,
      "outputs": [
        {
          "output_type": "display_data",
          "data": {
            "image/png": "[encoded data removed]",
            "text/plain": [
              "<Figure size 432x288 with 1 Axes>"
            ]
          },
          "metadata": {
            "needs_background": "light"
          }
        }
      ]
    },
    {
      "cell_type": "code",
      "metadata": {
        "colab": {
          "base_uri": "https://localhost:8080/",
          "height": 295
        },
        "id": "4LZhZSAZL-CW",
        "outputId": "ced2c83f-383c-4b91-916f-8b711ffb55d5"
      },
      "source": [
        "# 훈련과 검증 정확도 그리기\n",
        "\n",
        "plt.clf()\n",
        "acc = history_dict['accuracy']\n",
        "val_acc = history_dict['val_accuracy']\n",
        "\n",
        "plt.plot(epochs, acc, 'bo', label='Training acc')\n",
        "plt.plot(epochs, val_acc, 'b', label='Validation acc')\n",
        "plt.title('Training and validation accuracy')\n",
        "plt.xlabel('Epochs')\n",
        "plt.ylabel('Accuracy')\n",
        "plt.legend()\n",
        "\n",
        "plt.show()"
      ],
      "execution_count": 19,
      "outputs": [
        {
          "output_type": "display_data",
          "data": {
            "image/png": "[encoded data removed]",
            "text/plain": [
              "<Figure size 432x288 with 1 Axes>"
            ]
          },
          "metadata": {
            "needs_background": "light"
          }
        }
      ]
    },
    {
      "cell_type": "code",
      "metadata": {
        "colab": {
          "base_uri": "https://localhost:8080/"
        },
        "id": "SwuK1AurMIMw",
        "outputId": "a35c6428-0fef-474e-ca31-dbe1957704e8"
      },
      "source": [
        "# 위의 그래프에서 보면 epochs 수가 늘어갈수록 accuracy가 낮아 지는것을 볼 수 있다.\n",
        "# 이를 통해서 적절한 epochs 수를 알아 낼 수 있으며, 이를 통해 얻어낸 epochs 수 대로 다시 훈련시킨다.\n",
        "\n",
        "from keras import models\n",
        "from keras import layers\n",
        "\n",
        "model = models.Sequential()\n",
        "model.add(layers.Dense(64,activation='relu',input_shape=(10000,)))\n",
        "model.add(layers.Dense(64,activation='relu'))\n",
        "model.add(layers.Dense(46,activation='sigmoid'))\n",
        "\n",
        "model.compile(optimizer='rmsprop',\n",
        "              loss='binary_crossentropy',\n",
        "              metrics=['accuracy'])\n",
        "\n",
        "model.fit(partial_x_train,partial_y_train,epochs=9,batch_size=512)\n",
        "results = model.evaluate(x_test, one_hot_test_labels)"
      ],
      "execution_count": 21,
      "outputs": [
        {
          "output_type": "stream",
          "name": "stdout",
          "text": [
            "Epoch 1/9\n",
            "16/16 [==============================] - 1s 49ms/step - loss: 0.4828 - accuracy: 0.0129\n",
            "Epoch 2/9\n",
            "16/16 [==============================] - 1s 46ms/step - loss: 0.1662 - accuracy: 0.1929\n",
            "Epoch 3/9\n",
            "16/16 [==============================] - 1s 48ms/step - loss: 0.0917 - accuracy: 0.5277\n",
            "Epoch 4/9\n",
            "16/16 [==============================] - 1s 46ms/step - loss: 0.0633 - accuracy: 0.6488\n",
            "Epoch 5/9\n",
            "16/16 [==============================] - 1s 47ms/step - loss: 0.0489 - accuracy: 0.6912\n",
            "Epoch 6/9\n",
            "16/16 [==============================] - 1s 48ms/step - loss: 0.0401 - accuracy: 0.7321\n",
            "Epoch 7/9\n",
            "16/16 [==============================] - 1s 45ms/step - loss: 0.0337 - accuracy: 0.7769\n",
            "Epoch 8/9\n",
            "16/16 [==============================] - 1s 46ms/step - loss: 0.0288 - accuracy: 0.8122\n",
            "Epoch 9/9\n",
            "16/16 [==============================] - 1s 46ms/step - loss: 0.0247 - accuracy: 0.8423\n",
            "71/71 [==============================] - 0s 3ms/step - loss: 0.0361 - accuracy: 0.7569\n"
          ]
        }
      ]
    },
    {
      "cell_type": "code",
      "metadata": {
        "colab": {
          "base_uri": "https://localhost:8080/"
        },
        "id": "fJP49d4-MqA-",
        "outputId": "865783be-24bb-46c5-87e3-5512bc6a83c9"
      },
      "source": [
        "results"
      ],
      "execution_count": 22,
      "outputs": [
        {
          "output_type": "execute_result",
          "data": {
            "text/plain": [
              "[0.036128852516412735, 0.7569011449813843]"
            ]
          },
          "metadata": {},
          "execution_count": 22
        }
      ]
    },
    {
      "cell_type": "code",
      "metadata": {
        "id": "AC0sdYc5MrNW"
      },
      "source": [
        "predictions = model.predict(x_test)"
      ],
      "execution_count": 23,
      "outputs": []
    },
    {
      "cell_type": "code",
      "metadata": {
        "colab": {
          "base_uri": "https://localhost:8080/"
        },
        "id": "KhcgAWpJMxZN",
        "outputId": "5c084de0-b0f6-4579-a618-6cfccc9e52ff"
      },
      "source": [
        "predictions[0].shape"
      ],
      "execution_count": 24,
      "outputs": [
        {
          "output_type": "execute_result",
          "data": {
            "text/plain": [
              "(46,)"
            ]
          },
          "metadata": {},
          "execution_count": 24
        }
      ]
    },
    {
      "cell_type": "code",
      "metadata": {
        "colab": {
          "base_uri": "https://localhost:8080/"
        },
        "id": "DWI4KtZSM0A2",
        "outputId": "e2d9c755-eaf1-4070-bd74-d9d214a91f97"
      },
      "source": [
        "np.sum(predictions[0])"
      ],
      "execution_count": 25,
      "outputs": [
        {
          "output_type": "execute_result",
          "data": {
            "text/plain": [
              "0.44536442"
            ]
          },
          "metadata": {},
          "execution_count": 25
        }
      ]
    },
    {
      "cell_type": "code",
      "metadata": {
        "colab": {
          "base_uri": "https://localhost:8080/"
        },
        "id": "ix_ytqWhM2Ct",
        "outputId": "c3ded30c-95a0-462a-8778-5a5fc067b76d"
      },
      "source": [
        "np.argmax(predictions[0])"
      ],
      "execution_count": 26,
      "outputs": [
        {
          "output_type": "execute_result",
          "data": {
            "text/plain": [
              "3"
            ]
          },
          "metadata": {},
          "execution_count": 26
        }
      ]
    },
    {
      "cell_type": "code",
      "metadata": {
        "id": "NVTJQj_VNKbd"
      },
      "source": [
        "# 레이블을 인코딩하는 방법은 범주형 인코딩(one hot encoding)과 정수 텐서로 변환하는것이 있습니다.\n",
        "\n",
        "# ex) \n",
        "# y_train = np.array(train_labels)\n",
        "# y_test = np.array(test_labels)\n",
        "\n",
        "# 이 경우에 손실 함수를 바꾸어 주어야 하는데 범주형의 경우 categorical_crossentropy, \n",
        "# 정수 텐서의 경우 sparse_categorical_crossentropy 를 사용하면 됩니다.\n",
        "\n",
        "# ex)\n",
        "# model.compile(optimizer='rmsprop',\n",
        "#               loss='sparse_categorical_crossentropy',\n",
        "#               metrics=['acc'])"
      ],
      "execution_count": 27,
      "outputs": []
    },
    {
      "cell_type": "code",
      "metadata": {
        "colab": {
          "base_uri": "https://localhost:8080/"
        },
        "id": "xRfW-e3PN7jk",
        "outputId": "27130a92-d3fe-4a13-a3d2-67f2a6416184"
      },
      "source": [
        "# 중간층이 마지막 출력보다 작으면 안되는 이유\n",
        "\n",
        "model = models.Sequential()\n",
        "model.add(layers.Dense(64,activation='relu',input_shape=(10000,)))\n",
        "model.add(layers.Dense(4,activation='relu'))\n",
        "model.add(layers.Dense(46,activation='softmax'))\n",
        "\n",
        "model.compile(optimizer='rmsprop',\n",
        "              loss='categorical_crossentropy',\n",
        "              metrics=['accuracy'])\n",
        "\n",
        "model.fit(partial_x_train,\n",
        "          partial_y_train,\n",
        "          epochs=20,\n",
        "          batch_size=128,\n",
        "          validation_data=(x_val,y_val))\n",
        "\n",
        "# 기존과 결과치 비교시 성능이  95.8% -> 88.21%로 7% 이상 감소되었음을 볼 수 있다.\n",
        "# 그 이유는 많은 정보를 중간층의 저차원 표현 공간으로 압축하려고 했기 때문에 압축과정에서 손실이 잃어난 것이다."
      ],
      "execution_count": 30,
      "outputs": [
        {
          "output_type": "stream",
          "name": "stdout",
          "text": [
            "Epoch 1/20\n",
            "63/63 [==============================] - 2s 21ms/step - loss: 2.6281 - accuracy: 0.4842 - val_loss: 1.8660 - val_accuracy: 0.5980\n",
            "Epoch 2/20\n",
            "63/63 [==============================] - 1s 18ms/step - loss: 1.6006 - accuracy: 0.6175 - val_loss: 1.5282 - val_accuracy: 0.6230\n",
            "Epoch 3/20\n",
            "63/63 [==============================] - 1s 18ms/step - loss: 1.3185 - accuracy: 0.6542 - val_loss: 1.3785 - val_accuracy: 0.6600\n",
            "Epoch 4/20\n",
            "63/63 [==============================] - 1s 18ms/step - loss: 1.1535 - accuracy: 0.7144 - val_loss: 1.3051 - val_accuracy: 0.7020\n",
            "Epoch 5/20\n",
            "63/63 [==============================] - 1s 18ms/step - loss: 1.0316 - accuracy: 0.7425 - val_loss: 1.2736 - val_accuracy: 0.7010\n",
            "Epoch 6/20\n",
            "63/63 [==============================] - 1s 19ms/step - loss: 0.9337 - accuracy: 0.7612 - val_loss: 1.2642 - val_accuracy: 0.7060\n",
            "Epoch 7/20\n",
            "63/63 [==============================] - 1s 18ms/step - loss: 0.8539 - accuracy: 0.7825 - val_loss: 1.2847 - val_accuracy: 0.7010\n",
            "Epoch 8/20\n",
            "63/63 [==============================] - 1s 18ms/step - loss: 0.7895 - accuracy: 0.7892 - val_loss: 1.2842 - val_accuracy: 0.7050\n",
            "Epoch 9/20\n",
            "63/63 [==============================] - 1s 18ms/step - loss: 0.7338 - accuracy: 0.7975 - val_loss: 1.3380 - val_accuracy: 0.7010\n",
            "Epoch 10/20\n",
            "63/63 [==============================] - 1s 18ms/step - loss: 0.6834 - accuracy: 0.8006 - val_loss: 1.3483 - val_accuracy: 0.7010\n",
            "Epoch 11/20\n",
            "63/63 [==============================] - 1s 18ms/step - loss: 0.6403 - accuracy: 0.8063 - val_loss: 1.3909 - val_accuracy: 0.7010\n",
            "Epoch 12/20\n",
            "63/63 [==============================] - 1s 18ms/step - loss: 0.6028 - accuracy: 0.8178 - val_loss: 1.4037 - val_accuracy: 0.7090\n",
            "Epoch 13/20\n",
            "63/63 [==============================] - 1s 18ms/step - loss: 0.5669 - accuracy: 0.8311 - val_loss: 1.4778 - val_accuracy: 0.7030\n",
            "Epoch 14/20\n",
            "63/63 [==============================] - 1s 18ms/step - loss: 0.5362 - accuracy: 0.8425 - val_loss: 1.5408 - val_accuracy: 0.7080\n",
            "Epoch 15/20\n",
            "63/63 [==============================] - 1s 18ms/step - loss: 0.5105 - accuracy: 0.8528 - val_loss: 1.5669 - val_accuracy: 0.7170\n",
            "Epoch 16/20\n",
            "63/63 [==============================] - 1s 18ms/step - loss: 0.4878 - accuracy: 0.8619 - val_loss: 1.5884 - val_accuracy: 0.7120\n",
            "Epoch 17/20\n",
            "63/63 [==============================] - 1s 17ms/step - loss: 0.4612 - accuracy: 0.8691 - val_loss: 1.6575 - val_accuracy: 0.7130\n",
            "Epoch 18/20\n",
            "63/63 [==============================] - 1s 18ms/step - loss: 0.4420 - accuracy: 0.8721 - val_loss: 1.7596 - val_accuracy: 0.7140\n",
            "Epoch 19/20\n",
            "63/63 [==============================] - 1s 18ms/step - loss: 0.4264 - accuracy: 0.8787 - val_loss: 1.8203 - val_accuracy: 0.7160\n",
            "Epoch 20/20\n",
            "63/63 [==============================] - 1s 18ms/step - loss: 0.4098 - accuracy: 0.8821 - val_loss: 1.8443 - val_accuracy: 0.7150\n"
          ]
        },
        {
          "output_type": "execute_result",
          "data": {
            "text/plain": [
              "<keras.callbacks.History at 0x7fc2998eb310>"
            ]
          },
          "metadata": {},
          "execution_count": 30
        }
      ]
    }
  ]
}
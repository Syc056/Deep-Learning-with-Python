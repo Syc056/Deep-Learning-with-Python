{
  "nbformat": 4,
  "nbformat_minor": 0,
  "metadata": {
    "colab": {
      "name": "DeepLearningWithPython2-1.ipynb",
      "provenance": [],
      "collapsed_sections": [],
      "authorship_tag": "ABX9TyP0xc0WI+wS+NW4kW40HokL",
      "include_colab_link": true
    },
    "kernelspec": {
      "name": "python3",
      "display_name": "Python 3"
    },
    "language_info": {
      "name": "python"
    }
  },
  "cells": [
    {
      "cell_type": "markdown",
      "metadata": {
        "id": "view-in-github",
        "colab_type": "text"
      },
      "source": [
        "<a href=\"https://colab.research.google.com/github/Syc056/Deep-Learning-with-Python/blob/main/DeepLearningWithPython2_1.ipynb\" target=\"_parent\"><img src=\"https://colab.research.google.com/assets/colab-badge.svg\" alt=\"Open In Colab\"/></a>"
      ]
    },
    {
      "cell_type": "markdown",
      "metadata": {
        "id": "CRN_4oO369k3"
      },
      "source": [
        "1. 시작하기전에 : 신경망의 수학적 구성 요소"
      ]
    },
    {
      "cell_type": "code",
      "metadata": {
        "id": "QKkB2mk86ziC"
      },
      "source": [
        "from keras.datasets import mnist\n",
        "# keras.datasets에서 mnist 데이터셋 import\n",
        "\n",
        "(train_images, train_labels),(test_images, test_labels) = mnist.load_data()\n",
        "# import 된 mnist dataset의 train_images,train_labels, test_images,test_labels를 load\n"
      ],
      "execution_count": null,
      "outputs": []
    },
    {
      "cell_type": "code",
      "metadata": {
        "colab": {
          "base_uri": "https://localhost:8080/"
        },
        "id": "UQpHrVyA7ryn",
        "outputId": "91ebe88e-db95-43ec-e44e-bd8784ffda08"
      },
      "source": [
        "train_images.shape"
      ],
      "execution_count": null,
      "outputs": [
        {
          "output_type": "execute_result",
          "data": {
            "text/plain": [
              "(60000, 28, 28)"
            ]
          },
          "metadata": {},
          "execution_count": 2
        }
      ]
    },
    {
      "cell_type": "code",
      "metadata": {
        "colab": {
          "base_uri": "https://localhost:8080/"
        },
        "id": "Te3oHN0Z7w6A",
        "outputId": "342ec9b5-8823-4ce9-8133-2f1bf7e102cf"
      },
      "source": [
        "len(train_labels)"
      ],
      "execution_count": null,
      "outputs": [
        {
          "output_type": "execute_result",
          "data": {
            "text/plain": [
              "60000"
            ]
          },
          "metadata": {},
          "execution_count": 3
        }
      ]
    },
    {
      "cell_type": "code",
      "metadata": {
        "colab": {
          "base_uri": "https://localhost:8080/"
        },
        "id": "KOMN2XoP7yt0",
        "outputId": "3a53ed98-096c-4d85-c867-de5638040665"
      },
      "source": [
        "train_labels"
      ],
      "execution_count": null,
      "outputs": [
        {
          "output_type": "execute_result",
          "data": {
            "text/plain": [
              "array([5, 0, 4, ..., 5, 6, 8], dtype=uint8)"
            ]
          },
          "metadata": {},
          "execution_count": 4
        }
      ]
    },
    {
      "cell_type": "code",
      "metadata": {
        "colab": {
          "base_uri": "https://localhost:8080/"
        },
        "id": "UPl8rYkA73qc",
        "outputId": "cbe99a90-fc41-4be8-dd95-5ccfa1179557"
      },
      "source": [
        "test_images.shape"
      ],
      "execution_count": null,
      "outputs": [
        {
          "output_type": "execute_result",
          "data": {
            "text/plain": [
              "(10000, 28, 28)"
            ]
          },
          "metadata": {},
          "execution_count": 5
        }
      ]
    },
    {
      "cell_type": "code",
      "metadata": {
        "colab": {
          "base_uri": "https://localhost:8080/"
        },
        "id": "vTx8v-ec77EP",
        "outputId": "8cef2323-58f4-438c-fa68-b80c2f4c7a54"
      },
      "source": [
        "len(test_labels)"
      ],
      "execution_count": null,
      "outputs": [
        {
          "output_type": "execute_result",
          "data": {
            "text/plain": [
              "10000"
            ]
          },
          "metadata": {},
          "execution_count": 6
        }
      ]
    },
    {
      "cell_type": "code",
      "metadata": {
        "colab": {
          "base_uri": "https://localhost:8080/"
        },
        "id": "t0S5Flga79ne",
        "outputId": "38a5c00e-c1cc-4099-c95c-cf4ec08e0d4b"
      },
      "source": [
        "test_labels"
      ],
      "execution_count": null,
      "outputs": [
        {
          "output_type": "execute_result",
          "data": {
            "text/plain": [
              "array([7, 2, 1, ..., 4, 5, 6], dtype=uint8)"
            ]
          },
          "metadata": {},
          "execution_count": 7
        }
      ]
    },
    {
      "cell_type": "code",
      "metadata": {
        "id": "j1AF4-TL7_FR"
      },
      "source": [
        "# train_images,train_labels,test_images,test_labels 의 shape,len,실제 값등을 확인"
      ],
      "execution_count": null,
      "outputs": []
    },
    {
      "cell_type": "code",
      "metadata": {
        "id": "p3SEs_1u8KMB"
      },
      "source": [
        "from keras import models\n",
        "from keras import layers\n",
        "# keras에서 models,layers를 import\n",
        "\n",
        "network = models.Sequential()\n",
        "# network 변수에 models의 Sequential함수 실행\n",
        "network.add(layers.Dense(512,activation='relu',input_shape=(28*28,)))\n",
        "# Sequential모델의 layers를 add해주는데, Dense layer이며 unit = 512, activation function = relu, input shape=(28*28) 이다.\n",
        "network.add(layers.Dense(10,activation='softmax'))\n",
        "# 위와 같이 layers를 add해주는데,Dense layer이며 unit =10, activation function = softmax 이다."
      ],
      "execution_count": null,
      "outputs": []
    },
    {
      "cell_type": "code",
      "metadata": {
        "id": "BCyvJzN29mUt"
      },
      "source": [
        "# 아래는 Dense layer의 기본형태이다. \n",
        "# tf.keras.layers.Dense(\n",
        "#     units,\n",
        "#     activation=None,\n",
        "#     use_bias=True,\n",
        "#     kernel_initializer=\"glorot_uniform\",\n",
        "#     bias_initializer=\"zeros\",\n",
        "#     kernel_regularizer=None,\n",
        "#     bias_regularizer=None,\n",
        "#     activity_regularizer=None,\n",
        "#     kernel_constraint=None,\n",
        "#     bias_constraint=None,\n",
        "#     **kwargs\n",
        "# )"
      ],
      "execution_count": null,
      "outputs": []
    },
    {
      "cell_type": "code",
      "metadata": {
        "id": "TdCvVAJo9oze"
      },
      "source": [
        "network.compile(optimizer='rmsprop',\n",
        "                loss='categorical_crossentropy',\n",
        "                metrics=['accuracy'])"
      ],
      "execution_count": null,
      "outputs": []
    },
    {
      "cell_type": "code",
      "metadata": {
        "id": "NxURgnMX_C_6"
      },
      "source": [
        "# 컴파일 단계이다. optimizer=rmsprop, loss function = categorical_Crossentropy, \n",
        "# 마지막으로 metrics=['accuracy'] 가 의미하는 바는 훈련과 테스트 과정을 모니터링할 지표이다.\n",
        "# 예를 들어서, accuracy 즉 정확도만 고려한다는 뜻이지만,\n",
        "# model.compile(loss='mean_squared_error',\n",
        "#               optimizer='sgd',\n",
        "#               metrics=['mae', 'acc'])\n",
        "# 위와 같이 mae, acc 즉, 평균절대오차, 정확도 등도 사용가능하다.\n",
        "# 상황에 따라 필요한 지표가 다르다는걸 알아야한다."
      ],
      "execution_count": null,
      "outputs": []
    },
    {
      "cell_type": "code",
      "metadata": {
        "id": "yH7v4Kel_DkE"
      },
      "source": [
        "train_images = train_images.reshape((60000, 28 * 28))\n",
        "train_images = train_images.astype('float32') / 255\n",
        "\n",
        "test_images = test_images.reshape((10000,28 * 28))\n",
        "test_images = test_images.astype('float32') / 255"
      ],
      "execution_count": null,
      "outputs": []
    },
    {
      "cell_type": "code",
      "metadata": {
        "id": "QinMRTDL_a4W"
      },
      "source": [
        "# train set과 test set의 이미지 전처리 단계이다.\n",
        "# mnist의 훈련 이미지는 [0~255]사이의 값인 unit8 타입의 (60000,28,28) 크기를 가진\n",
        "# 배열로 저장되어 있다. 이 데이터를 0~1사이의 값을 가지는 float32타입의 (60000, 28 * 28)크기의 배열로 바꾼다."
      ],
      "execution_count": null,
      "outputs": []
    },
    {
      "cell_type": "code",
      "metadata": {
        "id": "7dXVE2Y0ADTM"
      },
      "source": [
        "from tensorflow.keras.utils import to_categorical\n",
        "# keras.utils에서 to_categorical을 import한다.\n",
        "\n",
        "train_labels = to_categorical(train_labels)\n",
        "test_labels = to_categorical(test_labels)\n",
        "\n",
        "# train_labels, test_labels를 to_categorical()를 사용하여,범주형 데이터로 변환한다.\n",
        "# 좀더 쉽게 이야기 하자면 one hot vector화 하는것인데, \n",
        "# 예를 들어서 3개의 클래스가 있다하면,\n",
        "# label_1 = 1번 클래스 \n",
        "# label_2 = 2번 클래스\n",
        "# label_3 = 3번 클래스\n",
        "# label_1 = (1,0,0)\n",
        "# label_2 = (0,1,0)\n",
        "# label_3 = (0,0,1)\n",
        "# 이렇게 만드는 것이 to_categorical()의 기능이다."
      ],
      "execution_count": null,
      "outputs": []
    },
    {
      "cell_type": "code",
      "metadata": {
        "colab": {
          "base_uri": "https://localhost:8080/"
        },
        "id": "0eLmhztcBWrs",
        "outputId": "8f3c4aed-d78f-4a42-f1e8-2dfc30ed9fe4"
      },
      "source": [
        "network.fit(train_images, train_labels, epochs=5, batch_size=128)\n",
        "# fit()를 사용해서 epoch= 5 batch_size=128로 훈련을 진행한다."
      ],
      "execution_count": null,
      "outputs": [
        {
          "output_type": "stream",
          "name": "stdout",
          "text": [
            "Epoch 1/5\n",
            "469/469 [==============================] - 5s 10ms/step - loss: 0.2611 - accuracy: 0.9246\n",
            "Epoch 2/5\n",
            "469/469 [==============================] - 5s 10ms/step - loss: 0.1044 - accuracy: 0.9696\n",
            "Epoch 3/5\n",
            "469/469 [==============================] - 5s 10ms/step - loss: 0.0688 - accuracy: 0.9793\n",
            "Epoch 4/5\n",
            "469/469 [==============================] - 5s 10ms/step - loss: 0.0499 - accuracy: 0.9851\n",
            "Epoch 5/5\n",
            "469/469 [==============================] - 5s 10ms/step - loss: 0.0370 - accuracy: 0.9890\n"
          ]
        },
        {
          "output_type": "execute_result",
          "data": {
            "text/plain": [
              "<keras.callbacks.History at 0x7fcfc06bead0>"
            ]
          },
          "metadata": {},
          "execution_count": 16
        }
      ]
    },
    {
      "cell_type": "code",
      "metadata": {
        "id": "Uf4uqSgVEA6r"
      },
      "source": [
        "# 최종적인 accuracy = 98.9%가 나왔다."
      ],
      "execution_count": null,
      "outputs": []
    },
    {
      "cell_type": "code",
      "metadata": {
        "colab": {
          "base_uri": "https://localhost:8080/"
        },
        "id": "QmFkErqtEGpL",
        "outputId": "c595d499-85b0-4238-dd27-f4f30fa3826b"
      },
      "source": [
        "test_loss, test_acc = network.evaluate(test_images, test_labels)\n",
        "# evaluate()를 사용하여 test set에서의 정확도와 loss를 측정한다."
      ],
      "execution_count": null,
      "outputs": [
        {
          "output_type": "stream",
          "name": "stdout",
          "text": [
            "313/313 [==============================] - 1s 2ms/step - loss: 0.0746 - accuracy: 0.9798\n"
          ]
        }
      ]
    },
    {
      "cell_type": "code",
      "metadata": {
        "id": "P5ORgUXdEaHn"
      },
      "source": [
        "# test set 에서의 accuracy = 97.9%가 나왔다."
      ],
      "execution_count": null,
      "outputs": []
    }
  ]
}
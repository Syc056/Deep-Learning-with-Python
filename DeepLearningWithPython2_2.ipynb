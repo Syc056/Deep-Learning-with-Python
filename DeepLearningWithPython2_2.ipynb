{
  "nbformat": 4,
  "nbformat_minor": 0,
  "metadata": {
    "colab": {
      "name": "DeepLearningWithPython2-2.ipynb",
      "provenance": [],
      "collapsed_sections": [],
      "authorship_tag": "ABX9TyM55sP3pJI6i/PFt2T+pG52",
      "include_colab_link": true
    },
    "kernelspec": {
      "name": "python3",
      "display_name": "Python 3"
    },
    "language_info": {
      "name": "python"
    }
  },
  "cells": [
    {
      "cell_type": "markdown",
      "metadata": {
        "id": "view-in-github",
        "colab_type": "text"
      },
      "source": [
        "<a href=\"https://colab.research.google.com/github/Syc056/Deep-Learning-with-Python/blob/main/DeepLearningWithPython2_2.ipynb\" target=\"_parent\"><img src=\"https://colab.research.google.com/assets/colab-badge.svg\" alt=\"Open In Colab\"/></a>"
      ]
    },
    {
      "cell_type": "markdown",
      "metadata": {
        "id": "RuKOow_yEvWE"
      },
      "source": [
        "2.2 신경망을 위한 데이터 표현"
      ]
    },
    {
      "cell_type": "code",
      "metadata": {
        "id": "tghY4dRLEyPw"
      },
      "source": [
        "# 스칼라(0D Tensor)"
      ],
      "execution_count": null,
      "outputs": []
    },
    {
      "cell_type": "code",
      "metadata": {
        "id": "mueUNhtpE6Tx"
      },
      "source": [
        "import numpy as np\n",
        "\n",
        "x = np.array(12)"
      ],
      "execution_count": null,
      "outputs": []
    },
    {
      "cell_type": "code",
      "metadata": {
        "colab": {
          "base_uri": "https://localhost:8080/"
        },
        "id": "mxfKPzJMFBm1",
        "outputId": "8bf91323-e864-482f-a14c-fa884f22add9"
      },
      "source": [
        "x"
      ],
      "execution_count": null,
      "outputs": [
        {
          "output_type": "execute_result",
          "data": {
            "text/plain": [
              "array(12)"
            ]
          },
          "metadata": {},
          "execution_count": 3
        }
      ]
    },
    {
      "cell_type": "code",
      "metadata": {
        "colab": {
          "base_uri": "https://localhost:8080/"
        },
        "id": "IFakysDjFB9c",
        "outputId": "e1a25097-9a05-419d-80c3-b5ec43270bdf"
      },
      "source": [
        "x.ndim"
      ],
      "execution_count": null,
      "outputs": [
        {
          "output_type": "execute_result",
          "data": {
            "text/plain": [
              "0"
            ]
          },
          "metadata": {},
          "execution_count": 5
        }
      ]
    },
    {
      "cell_type": "code",
      "metadata": {
        "id": "6Ra6lq3iEsCJ"
      },
      "source": [
        "# numpy를 사용하여 변수 x에 0D Tensor인 스칼라를 생성하였고,\n",
        "# 해당 변수 x의 값과 ndim 즉, 축의 개수를 출력하였다."
      ],
      "execution_count": null,
      "outputs": []
    },
    {
      "cell_type": "code",
      "metadata": {
        "id": "fby-0RX4FT-C"
      },
      "source": [
        "# 벡터(1D Tensor)"
      ],
      "execution_count": null,
      "outputs": []
    },
    {
      "cell_type": "code",
      "metadata": {
        "id": "RXERssbfFXM3"
      },
      "source": [
        "x = np.array([12,3,6,14,7])"
      ],
      "execution_count": null,
      "outputs": []
    },
    {
      "cell_type": "code",
      "metadata": {
        "colab": {
          "base_uri": "https://localhost:8080/"
        },
        "id": "4I8NtuAkFdZe",
        "outputId": "5cce8a23-c1c5-465b-f5c1-f6d306437941"
      },
      "source": [
        "x"
      ],
      "execution_count": null,
      "outputs": [
        {
          "output_type": "execute_result",
          "data": {
            "text/plain": [
              "array([12,  3,  6, 14,  7])"
            ]
          },
          "metadata": {},
          "execution_count": 9
        }
      ]
    },
    {
      "cell_type": "code",
      "metadata": {
        "colab": {
          "base_uri": "https://localhost:8080/"
        },
        "id": "is7u_qMyFd41",
        "outputId": "5a91aa2f-d3a9-4cff-fc87-fdd18962fb74"
      },
      "source": [
        "x.ndim"
      ],
      "execution_count": null,
      "outputs": [
        {
          "output_type": "execute_result",
          "data": {
            "text/plain": [
              "1"
            ]
          },
          "metadata": {},
          "execution_count": 10
        }
      ]
    },
    {
      "cell_type": "code",
      "metadata": {
        "id": "isOVhuqkFekg"
      },
      "source": [
        "# numpy를 사용하여 변수 x에 1D Tensor인 벡터를 생성하였고,\n",
        "# 해당 변수 x의 값과 ndim 즉, 축의 개수를 출력하였다."
      ],
      "execution_count": null,
      "outputs": []
    },
    {
      "cell_type": "code",
      "metadata": {
        "id": "_kdeYPrxFnom"
      },
      "source": [
        "# 행렬(2D Tensor)"
      ],
      "execution_count": null,
      "outputs": []
    },
    {
      "cell_type": "code",
      "metadata": {
        "id": "QsNloiDUFrLM"
      },
      "source": [
        " x = np.array([[5,1,2,3,4,],\n",
        "              [2,6,3,1,6],\n",
        "              [12,63,4,23,4]])"
      ],
      "execution_count": null,
      "outputs": []
    },
    {
      "cell_type": "code",
      "metadata": {
        "colab": {
          "base_uri": "https://localhost:8080/"
        },
        "id": "3t5ghTWnF2L5",
        "outputId": "f3f00520-fd62-4570-af39-66c637a9a2b8"
      },
      "source": [
        "x"
      ],
      "execution_count": null,
      "outputs": [
        {
          "output_type": "execute_result",
          "data": {
            "text/plain": [
              "array([[ 5,  1,  2,  3,  4],\n",
              "       [ 2,  6,  3,  1,  6],\n",
              "       [12, 63,  4, 23,  4]])"
            ]
          },
          "metadata": {},
          "execution_count": 15
        }
      ]
    },
    {
      "cell_type": "code",
      "metadata": {
        "colab": {
          "base_uri": "https://localhost:8080/"
        },
        "id": "3SBa0bJCF3V6",
        "outputId": "22d8f34e-f8ed-4771-b82b-40416852e143"
      },
      "source": [
        "x.ndim"
      ],
      "execution_count": null,
      "outputs": [
        {
          "output_type": "execute_result",
          "data": {
            "text/plain": [
              "2"
            ]
          },
          "metadata": {},
          "execution_count": 16
        }
      ]
    },
    {
      "cell_type": "code",
      "metadata": {
        "id": "tYXjUJ_2Fyv6"
      },
      "source": [
        "# numpy를 사용하여 변수 x에 2D Tensor인 행렬을 생성하였고,\n",
        "# 해당 변수 x의 값과 ndim 즉, 축의 개수를 출력하였다."
      ],
      "execution_count": null,
      "outputs": []
    },
    {
      "cell_type": "code",
      "metadata": {
        "id": "VGrTneFsF9r8"
      },
      "source": [
        "# 3D Tensor와 고차원 Tensor"
      ],
      "execution_count": null,
      "outputs": []
    },
    {
      "cell_type": "code",
      "metadata": {
        "id": "wqAAGehSGC-A"
      },
      "source": [
        "x = np.array([\n",
        "              [\n",
        "               [5,1,2,3,2],\n",
        "               [3,1,2,3,4]\n",
        "               ],\n",
        "               [\n",
        "                [1,2,3,4,2],\n",
        "                [2,3,2,4,1]\n",
        "               ],\n",
        "                [\n",
        "                 [1,2,3,4,5],\n",
        "                 [1,2,3,4,5]\n",
        "                 ]\n",
        "              ])"
      ],
      "execution_count": null,
      "outputs": []
    },
    {
      "cell_type": "code",
      "metadata": {
        "colab": {
          "base_uri": "https://localhost:8080/"
        },
        "id": "noAOmVa3GfHm",
        "outputId": "0061c992-2ecf-4d1d-ef72-5bb4a22e4fd3"
      },
      "source": [
        "x"
      ],
      "execution_count": null,
      "outputs": [
        {
          "output_type": "execute_result",
          "data": {
            "text/plain": [
              "array([[[5, 1, 2, 3, 2],\n",
              "        [3, 1, 2, 3, 4]],\n",
              "\n",
              "       [[1, 2, 3, 4, 2],\n",
              "        [2, 3, 2, 4, 1]],\n",
              "\n",
              "       [[1, 2, 3, 4, 5],\n",
              "        [1, 2, 3, 4, 5]]])"
            ]
          },
          "metadata": {},
          "execution_count": 24
        }
      ]
    },
    {
      "cell_type": "code",
      "metadata": {
        "colab": {
          "base_uri": "https://localhost:8080/"
        },
        "id": "V2kd9JgCGWXk",
        "outputId": "922e4af0-98cb-4ec9-e011-a6e2bc04d8a5"
      },
      "source": [
        "x.ndim"
      ],
      "execution_count": null,
      "outputs": [
        {
          "output_type": "execute_result",
          "data": {
            "text/plain": [
              "3"
            ]
          },
          "metadata": {},
          "execution_count": 25
        }
      ]
    },
    {
      "cell_type": "code",
      "metadata": {
        "id": "GPG7iTvzGU6W"
      },
      "source": [
        "# 3D Tensor는 직육면체 형태로 해석할 수 있으며,\n",
        "# 3D Tensor들을 하나의 배열로 합치면 4D Tensor를 만드는 식으로 이어진다.\n",
        "# 딥러닝에서는 0~4D Tensor까지 다루며 특이 사항으로 동영상 데이터를\n",
        "# 다룰 경우 5D Tensor까지 다루기도 한다."
      ],
      "execution_count": null,
      "outputs": []
    },
    {
      "cell_type": "code",
      "metadata": {
        "id": "W2J4BL8lHGE5"
      },
      "source": [
        "# Tensor는 3개의 핵심 속성으로 정의하는데,\n",
        "# 축의개수(ndim), 크기(shape), 데이터 타입(dtype) 으로 이루어져 있다."
      ],
      "execution_count": null,
      "outputs": []
    },
    {
      "cell_type": "code",
      "metadata": {
        "id": "mDyc7v8IHo6V"
      },
      "source": [
        "# mnist 5번째 이미지 출력하기"
      ],
      "execution_count": null,
      "outputs": []
    },
    {
      "cell_type": "code",
      "metadata": {
        "colab": {
          "base_uri": "https://localhost:8080/",
          "height": 283
        },
        "id": "KFztdmtLHsqp",
        "outputId": "3beb2a53-f728-4a43-f1ae-ae7280ac622a"
      },
      "source": [
        "from keras.datasets import mnist\n",
        "(train_images,train_labels),(test_images,test_labels) = mnist.load_data()\n",
        "\n",
        "digit = train_images[4]\n",
        "\n",
        "import matplotlib.pyplot as plt\n",
        "\n",
        "plt.imshow(digit, cmap=plt.cm.binary)\n",
        "plt.show"
      ],
      "execution_count": null,
      "outputs": [
        {
          "output_type": "execute_result",
          "data": {
            "text/plain": [
              "<function matplotlib.pyplot.show>"
            ]
          },
          "metadata": {},
          "execution_count": 31
        },
        {
          "output_type": "display_data",
          "data": {
            "image/png": "[encoded data removed]",
            "text/plain": [
              "<Figure size 432x288 with 1 Axes>"
            ]
          },
          "metadata": {
            "needs_background": "light"
          }
        }
      ]
    },
    {
      "cell_type": "code",
      "metadata": {
        "id": "HRc_8Y4QIRL8"
      },
      "source": [
        "# mnit dataset을 load하고,\n",
        "# matplotlib를 사용하여 show한다."
      ],
      "execution_count": null,
      "outputs": []
    },
    {
      "cell_type": "code",
      "metadata": {
        "id": "0c233Hb2Iafw"
      },
      "source": [
        "# numpy로 Tensor 조작하기"
      ],
      "execution_count": null,
      "outputs": []
    },
    {
      "cell_type": "code",
      "metadata": {
        "colab": {
          "base_uri": "https://localhost:8080/"
        },
        "id": "zJOJfW_fIpqW",
        "outputId": "1d868faa-c9d2-4aad-cfcd-525dc1223d83"
      },
      "source": [
        "my_slice = train_images[10:100]\n",
        "print(my_slice.shape)\n",
        "# 변수 my_slice에 train_images의 10번째 부터 99번째까지 넣는다."
      ],
      "execution_count": null,
      "outputs": [
        {
          "output_type": "stream",
          "name": "stdout",
          "text": [
            "(90, 28, 28)\n"
          ]
        }
      ]
    },
    {
      "cell_type": "code",
      "metadata": {
        "colab": {
          "base_uri": "https://localhost:8080/"
        },
        "id": "GcxaQwOhIv7l",
        "outputId": "1228f737-8b16-40e1-b1c9-7e2250a0d5a8"
      },
      "source": [
        "my_slice = train_images[10:100,:,:]\n",
        "print(my_slice.shape)"
      ],
      "execution_count": null,
      "outputs": [
        {
          "output_type": "stream",
          "name": "stdout",
          "text": [
            "(90, 28, 28)\n"
          ]
        }
      ]
    },
    {
      "cell_type": "code",
      "metadata": {
        "colab": {
          "base_uri": "https://localhost:8080/"
        },
        "id": "7MMCptwIJCZ2",
        "outputId": "26e19106-b8e9-4032-cb5a-bbb627ee2049"
      },
      "source": [
        "my_slice = train_images[10:100,:28,:28]\n",
        "print(my_slice.shape)"
      ],
      "execution_count": null,
      "outputs": [
        {
          "output_type": "stream",
          "name": "stdout",
          "text": [
            "(90, 28, 28)\n"
          ]
        }
      ]
    },
    {
      "cell_type": "code",
      "metadata": {
        "id": "PD_CSPUIJJTv"
      },
      "source": [
        "# 위의 3가지 방법의 슬라이싱 표현 방법은 같은결과를 나타냄"
      ],
      "execution_count": null,
      "outputs": []
    },
    {
      "cell_type": "code",
      "metadata": {
        "id": "APTP3D2LJWjc"
      },
      "source": [
        "# 배치데이터"
      ],
      "execution_count": null,
      "outputs": []
    },
    {
      "cell_type": "code",
      "metadata": {
        "id": "xj2Ci1RlJYWe"
      },
      "source": [
        "n = 100 # example\n",
        "\n",
        "batch = train_images[:128] # 1번째 배치\n",
        "batch = train_images[128:256] # 2번째 배치\n",
        "batch = train_images[128*n:128*(n+1)] # n 번째 배치"
      ],
      "execution_count": null,
      "outputs": []
    },
    {
      "cell_type": "code",
      "metadata": {
        "id": "pvK1YOipJ000"
      },
      "source": [
        "# Tensor의 실제 example\n",
        "\n",
        "# 벡터 데이터 (samples, features) 크기의 2D Tensor\n",
        "# 시계열 데이터 or 시퀀스 데이터 (samples, timesteps, features) 크기의 3D Tensor\n",
        "# 이미지 (samples, height, width, channels) or (samples, channels, height, width) 크기의 4D Tensor\n",
        "# 동영상 (samples, frames, height, width, channels) or (samples, frames, channels, height, width) 크기의 5D Tensor"
      ],
      "execution_count": null,
      "outputs": []
    }
  ]
}
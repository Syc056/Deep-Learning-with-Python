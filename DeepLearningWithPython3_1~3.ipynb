{
  "nbformat": 4,
  "nbformat_minor": 0,
  "metadata": {
    "colab": {
      "name": "DeepLearningWithPython3-1~3.ipynb",
      "provenance": [],
      "collapsed_sections": [],
      "authorship_tag": "ABX9TyN5jZx47o6GPzsnhtTD9lZf",
      "include_colab_link": true
    },
    "kernelspec": {
      "name": "python3",
      "display_name": "Python 3"
    },
    "language_info": {
      "name": "python"
    }
  },
  "cells": [
    {
      "cell_type": "markdown",
      "metadata": {
        "id": "view-in-github",
        "colab_type": "text"
      },
      "source": [
        "<a href=\"https://colab.research.google.com/github/Syc056/Deep-Learning-with-Python/blob/main/DeepLearningWithPython3_1~3.ipynb\" target=\"_parent\"><img src=\"https://colab.research.google.com/assets/colab-badge.svg\" alt=\"Open In Colab\"/></a>"
      ]
    },
    {
      "cell_type": "code",
      "metadata": {
        "id": "miBKLcfDMeZL"
      },
      "source": [
        "# 신경망의 구조\n",
        "\n",
        "# 네트워크를 구성하는 층\n",
        "# 입력 데이터와 그에 상응하는 타깃\n",
        "# 학습에 사용할 피드백 신호를 정의하는 손실 함수\n",
        "# 학습 진행 방식을 결정하는 옵티마이저"
      ],
      "execution_count": 4,
      "outputs": []
    },
    {
      "cell_type": "code",
      "metadata": {
        "id": "EpEQKaaKNUCK"
      },
      "source": [
        "# 층\n",
        "\n",
        "# 2D Tensor \n",
        "# 완전연결층, 밀집연결층\n",
        "\n",
        "# 3D Tensor\n",
        "# LSTM 순환층\n",
        "\n",
        "# 4D Tensor\n",
        "# Conv2D"
      ],
      "execution_count": 5,
      "outputs": []
    },
    {
      "cell_type": "code",
      "metadata": {
        "id": "dC3yOdXjQ-DB"
      },
      "source": [
        "# 모델 층의 네트워크\n",
        "\n",
        "#층 + 층 + .... + 층 == 네트워크"
      ],
      "execution_count": 6,
      "outputs": []
    },
    {
      "cell_type": "code",
      "metadata": {
        "id": "KMiCfBFIXMKJ"
      },
      "source": [
        "# 손실함수와 옵티마이저 \n",
        "\n",
        "# 네트워크 구조를 정의하고 나면 두 가지를 더 선택해야한다.\n",
        "# 손실함수 : 훈련하는 동안 최소화 될 값 이다. 주어진 문제에 대한 성공 지표\n",
        "# 옵티마이저 : 손실함수를 기반으로 네트워크가 어떻게 업데이트 될지 결정 한다."
      ],
      "execution_count": null,
      "outputs": []
    }
  ]
}
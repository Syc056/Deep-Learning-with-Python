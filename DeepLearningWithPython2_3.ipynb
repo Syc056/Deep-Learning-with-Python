{
  "nbformat": 4,
  "nbformat_minor": 0,
  "metadata": {
    "colab": {
      "name": "DeepLearningWithPython2-3.ipynb",
      "provenance": [],
      "collapsed_sections": [],
      "authorship_tag": "ABX9TyPvUvOpTEC09D3z2ynBV/WQ",
      "include_colab_link": true
    },
    "kernelspec": {
      "name": "python3",
      "display_name": "Python 3"
    },
    "language_info": {
      "name": "python"
    }
  },
  "cells": [
    {
      "cell_type": "markdown",
      "metadata": {
        "id": "view-in-github",
        "colab_type": "text"
      },
      "source": [
        "<a href=\"https://colab.research.google.com/github/Syc056/Deep-Learning-with-Python/blob/main/DeepLearningWithPython2_3.ipynb\" target=\"_parent\"><img src=\"https://colab.research.google.com/assets/colab-badge.svg\" alt=\"Open In Colab\"/></a>"
      ]
    },
    {
      "cell_type": "code",
      "metadata": {
        "id": "2VYVyx0oKldV"
      },
      "source": [
        "# 신경망의 톱니바퀴 : 텐서 연산"
      ],
      "execution_count": 1,
      "outputs": []
    },
    {
      "cell_type": "code",
      "metadata": {
        "id": "OGf2UULEKq5G"
      },
      "source": [
        "# mnist에서 Dense layer의 예시\n",
        "from tensorflow.keras import layers\n",
        "from tensorflow.keras import models\n",
        "\n",
        "a = models.Sequential()\n",
        "a.add(layers.Dense(512,activation='relu'))\n",
        "\n",
        "# 위의 Dense layer는 2D Tensor를 입력으로 받아 2D Tensor를 output으로 배출한다.\n",
        "# 해당 연산을 자세한 python code로 보면\n",
        "# -> output = relu(dot(W, input) + b) 와 같은데,\n",
        "# 3개의 텐서 연산으로 이루어져 있으며 \n",
        "# 이는 입력 텐서와 텐서 W 간의 점곱(dot),\n",
        "# 점곱(dot)의 결과인 2D Tensor와 벡터 b 사이의 덧셈,\n",
        "# 마지막으로 relu 연산이다.\n",
        "# relu(x) == max(x,0) 이다."
      ],
      "execution_count": 6,
      "outputs": []
    },
    {
      "cell_type": "code",
      "metadata": {
        "id": "yERhcE7KL5Q4"
      },
      "source": [
        "# 원소별 연산"
      ],
      "execution_count": 7,
      "outputs": []
    },
    {
      "cell_type": "code",
      "metadata": {
        "id": "TEF5xK71MN2A"
      },
      "source": [
        "# relu()와 +는 원소별 연산이다.\n",
        "# 이 연산은 tensor에 있는 각 원소에 독립적으로 적용된다.\n"
      ],
      "execution_count": 8,
      "outputs": []
    },
    {
      "cell_type": "code",
      "metadata": {
        "id": "O_Q8Mxt9MXR5"
      },
      "source": [
        "def naive_relu(x):\n",
        "  assert len(x.shape) == 2\n",
        "\n",
        "  x = x.copy()\n",
        "  for i in range(x.shape[0]):\n",
        "    for j in range(x.shape[1]):\n",
        "      x[i,j] = max(x[i,j],0)\n",
        "  return x"
      ],
      "execution_count": 9,
      "outputs": []
    },
    {
      "cell_type": "code",
      "metadata": {
        "id": "R5JQNcZ6M8Wn"
      },
      "source": [
        "def naive_add(x,y):\n",
        "  assert len(x.shape) ==2\n",
        "  assert x.shape == y.shape\n",
        "\n",
        "  x= x.copy()\n",
        "  for i in range(x.shape[0]):\n",
        "    for j in range(x.shape[1]):\n",
        "      x[i,j] += y[i,j]\n",
        "  return x"
      ],
      "execution_count": 10,
      "outputs": []
    },
    {
      "cell_type": "code",
      "metadata": {
        "id": "LUWbv_tfNNdC"
      },
      "source": [
        "# relu와 add를 파이썬을 이용하여 구현한 코드이다.\n",
        "# 입력 텐서자체를 바꾸지안힉위하여 x.copy()를 사용하였고,\n",
        "# assert를 사용하여 x와 y의 shape를 지정하여 2D Tensor로 만들어주었다.\n",
        "# 같은 원리로 곱셈과 나눗셈을 할수 있다하여 구현해보자."
      ],
      "execution_count": 11,
      "outputs": []
    },
    {
      "cell_type": "code",
      "metadata": {
        "id": "smZL1jblNh8u"
      },
      "source": [
        "def naive_mul(x,y):\n",
        "  assert len(x.shape) == 2\n",
        "  assert x.shape == y.shape\n",
        "\n",
        "  x = x.copy()\n",
        "  for i in range(x.shape[0]):\n",
        "    for j in range(x.shape[1]):\n",
        "      x[i,j] *= y[i,j]\n",
        "  return x"
      ],
      "execution_count": 12,
      "outputs": []
    },
    {
      "cell_type": "code",
      "metadata": {
        "id": "9AmmGruzOCF3"
      },
      "source": [
        "def naive_mul(x,y):\n",
        "  assert len(x.shape) == 2\n",
        "  assert x.shape == y.shape\n",
        "\n",
        "  x = x.copy()\n",
        "  for i in range(x.shape[0]):\n",
        "    for j in range(x.shape[1]):\n",
        "      x[i,j] /= y[i,j]\n",
        "  return x"
      ],
      "execution_count": 14,
      "outputs": []
    },
    {
      "cell_type": "code",
      "metadata": {
        "id": "xE4EYcUgOE3F"
      },
      "source": [
        "# 템서 점곱(tensor dot)"
      ],
      "execution_count": 15,
      "outputs": []
    },
    {
      "cell_type": "code",
      "metadata": {
        "id": "TmKkYQn8OLkN"
      },
      "source": [
        "import numpy as np\n",
        "\n",
        "# z = np.dot(x,y)\n",
        "\n",
        "def naive_vector_dot(x,y):\n",
        "  assert len(x.shape) == 2 # x = numpy 행렬\n",
        "  assert len(y.shape) == 1 # y = numpy 벡터\n",
        "  assert x.shape[0] == y.shape[0]\n",
        "\n",
        "  z = np.zeros(x.shape[0])\n",
        "  for i in range(x.shape[0]):\n",
        "    for j in range(x.shape[1]):\n",
        "      z[i] += x[i,j] * y[j]\n",
        "  return z\n",
        "\n",
        "def naive_vector_dot(x,y):\n",
        "  assert len(x.shape) == 2 # x = numpy 행렬\n",
        "  assert len(y.shape) == 2 # y = numpy 행렬\n",
        "  assert x.shape[0] == y.shape[0]\n",
        "\n",
        "  z = np.zeros(x.shape[0],y.shape[1])\n",
        "  for i in range(x.shape[0]):\n",
        "    for j in range(y.shape[1]):\n",
        "      row_x = x[i,:]\n",
        "      column_y = y[:,j]\n",
        "      z[i,j] = naive_vector_dot(row_x,column_y)\n",
        "  return z"
      ],
      "execution_count": 17,
      "outputs": []
    },
    {
      "cell_type": "code",
      "metadata": {
        "id": "K_lFCBfkQMng"
      },
      "source": [
        "# tensor.reshape"
      ],
      "execution_count": 18,
      "outputs": []
    },
    {
      "cell_type": "code",
      "metadata": {
        "id": "vd00mYX9QS9S"
      },
      "source": [
        "x = np.array([[0.,1.],\n",
        "              [2.,3.],\n",
        "              [4.,5.]])"
      ],
      "execution_count": 19,
      "outputs": []
    },
    {
      "cell_type": "code",
      "metadata": {
        "colab": {
          "base_uri": "https://localhost:8080/"
        },
        "id": "lkd4QwpxQZxi",
        "outputId": "f2cf6e1b-2ba2-4c39-cf84-fbbf14636791"
      },
      "source": [
        "print(x.shape)"
      ],
      "execution_count": 20,
      "outputs": [
        {
          "output_type": "stream",
          "name": "stdout",
          "text": [
            "(3, 2)\n"
          ]
        }
      ]
    },
    {
      "cell_type": "code",
      "metadata": {
        "colab": {
          "base_uri": "https://localhost:8080/"
        },
        "id": "2sOAEB5ZQbIN",
        "outputId": "049a33d7-2c0e-43c3-aa6f-0fb1aef769ea"
      },
      "source": [
        "x.reshape((6,1))"
      ],
      "execution_count": 24,
      "outputs": [
        {
          "output_type": "execute_result",
          "data": {
            "text/plain": [
              "array([[0.],\n",
              "       [1.],\n",
              "       [2.],\n",
              "       [3.],\n",
              "       [4.],\n",
              "       [5.]])"
            ]
          },
          "metadata": {},
          "execution_count": 24
        }
      ]
    },
    {
      "cell_type": "code",
      "metadata": {
        "colab": {
          "base_uri": "https://localhost:8080/"
        },
        "id": "JENeLGuOQdu4",
        "outputId": "b0661e1a-23c1-4352-8864-d77d66f36465"
      },
      "source": [
        "x.reshape(2,3)"
      ],
      "execution_count": 26,
      "outputs": [
        {
          "output_type": "execute_result",
          "data": {
            "text/plain": [
              "array([[0., 1., 2.],\n",
              "       [3., 4., 5.]])"
            ]
          },
          "metadata": {},
          "execution_count": 26
        }
      ]
    },
    {
      "cell_type": "code",
      "metadata": {
        "id": "r_Cn1sDXQf0n"
      },
      "source": [
        "x = np.transpose(x)"
      ],
      "execution_count": 27,
      "outputs": []
    },
    {
      "cell_type": "code",
      "metadata": {
        "colab": {
          "base_uri": "https://localhost:8080/"
        },
        "id": "s_WAAu_AQxBW",
        "outputId": "fd701159-259d-49cb-caeb-6720eced3df0"
      },
      "source": [
        "x"
      ],
      "execution_count": 28,
      "outputs": [
        {
          "output_type": "execute_result",
          "data": {
            "text/plain": [
              "array([[0., 2., 4.],\n",
              "       [1., 3., 5.]])"
            ]
          },
          "metadata": {},
          "execution_count": 28
        }
      ]
    },
    {
      "cell_type": "code",
      "metadata": {
        "id": "48RY3UPTQxwF"
      },
      "source": [
        "# x.reshape()를 사용하여 reshape할 수 있으며, 자주사용하는 변환으로 전치(np.transpose)가 있다."
      ],
      "execution_count": 29,
      "outputs": []
    }
  ]
}